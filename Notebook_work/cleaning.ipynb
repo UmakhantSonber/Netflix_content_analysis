{
 "cells": [
  {
   "cell_type": "code",
   "execution_count": 2,
   "id": "2ab01c1e-bfd9-4a30-a99e-693f5faa81a4",
   "metadata": {},
   "outputs": [],
   "source": [
    "import pandas as pd\n",
    "import numpy as np\n",
    "import matplotlib.pyplot as plt\n",
    "import seaborn as sns"
   ]
  },
  {
   "cell_type": "code",
   "execution_count": 38,
   "id": "eccf4f61-294a-4305-9989-112d6d3935e9",
   "metadata": {},
   "outputs": [],
   "source": [
    "df = pd.read_csv(r'C:\\Users\\dell\\Desktop\\anaconda\\netflix_project\\netflix_titles.csv')"
   ]
  },
  {
   "cell_type": "code",
   "execution_count": 39,
   "id": "f1beab45-eb2c-4d05-8d1b-a7302b649af8",
   "metadata": {},
   "outputs": [
    {
     "name": "stdout",
     "output_type": "stream",
     "text": [
      "  show_id     type                  title         director  \\\n",
      "0      s1    Movie   Dick Johnson Is Dead  Kirsten Johnson   \n",
      "1      s2  TV Show          Blood & Water              NaN   \n",
      "2      s3  TV Show              Ganglands  Julien Leclercq   \n",
      "3      s4  TV Show  Jailbirds New Orleans              NaN   \n",
      "4      s5  TV Show           Kota Factory              NaN   \n",
      "\n",
      "                                                                                                                                                                                                                                                                                                              cast  \\\n",
      "0                                                                                                                                                                                                                                                                                                              NaN   \n",
      "1  Ama Qamata, Khosi Ngema, Gail Mabalane, Thabang Molaba, Dillon Windvogel, Natasha Thahane, Arno Greeff, Xolile Tshabalala, Getmore Sithole, Cindy Mahlangu, Ryle De Morny, Greteli Fincham, Sello Maake Ka-Ncube, Odwa Gwanya, Mekaila Mathys, Sandi Schultz, Duane Williams, Shamilla Miller, Patrick Mofokeng   \n",
      "2                                                                                                                                                              Sami Bouajila, Tracy Gotoas, Samuel Jouy, Nabiha Akkari, Sofia Lesaffre, Salim Kechiouche, Noureddine Farihi, Geert Van Rampelberg, Bakary Diombera   \n",
      "3                                                                                                                                                                                                                                                                                                              NaN   \n",
      "4                                                                                                                                                                                                         Mayur More, Jitendra Kumar, Ranjan Raj, Alam Khan, Ahsaas Channa, Revathi Pillai, Urvi Singh, Arun Kumar   \n",
      "\n",
      "         country          date_added  release_year rating   duration  \\\n",
      "0  United States  September 25, 2021          2020  PG-13     90 min   \n",
      "1   South Africa  September 24, 2021          2021  TV-MA  2 Seasons   \n",
      "2            NaN  September 24, 2021          2021  TV-MA   1 Season   \n",
      "3            NaN  September 24, 2021          2021  TV-MA   1 Season   \n",
      "4          India  September 24, 2021          2021  TV-MA  2 Seasons   \n",
      "\n",
      "                                                       listed_in  \\\n",
      "0                                                  Documentaries   \n",
      "1                International TV Shows, TV Dramas, TV Mysteries   \n",
      "2  Crime TV Shows, International TV Shows, TV Action & Adventure   \n",
      "3                                         Docuseries, Reality TV   \n",
      "4         International TV Shows, Romantic TV Shows, TV Comedies   \n",
      "\n",
      "                                                                                                                                                description  \n",
      "0  As her father nears the end of his life, filmmaker Kirsten Johnson stages his death in inventive and comical ways to help them both face the inevitable.  \n",
      "1       After crossing paths at a party, a Cape Town teen sets out to prove whether a private-school swimming star is her sister who was abducted at birth.  \n",
      "2        To protect his family from a powerful drug lord, skilled thief Mehdi and his expert team of robbers are pulled into a violent and deadly turf war.  \n",
      "3       Feuds, flirtations and toilet talk go down among the incarcerated women at the Orleans Justice Center in New Orleans on this gritty reality series.  \n",
      "4  In a city of coaching centers known to train India’s finest collegiate minds, an earnest but unexceptional student and his friends navigate campus life.  \n"
     ]
    }
   ],
   "source": [
    "print(df.head(5))"
   ]
  },
  {
   "cell_type": "code",
   "execution_count": 40,
   "id": "c0ac4a6b-4b16-4d5e-8358-a2a8bfed48dc",
   "metadata": {},
   "outputs": [],
   "source": [
    "pd.set_option('display.max_colwidth', None)"
   ]
  },
  {
   "cell_type": "code",
   "execution_count": 41,
   "id": "d13a4161-8eaa-490a-8032-17baa67caa25",
   "metadata": {},
   "outputs": [
    {
     "name": "stdout",
     "output_type": "stream",
     "text": [
      "<class 'pandas.core.frame.DataFrame'>\n",
      "RangeIndex: 8807 entries, 0 to 8806\n",
      "Data columns (total 12 columns):\n",
      " #   Column        Non-Null Count  Dtype \n",
      "---  ------        --------------  ----- \n",
      " 0   show_id       8807 non-null   object\n",
      " 1   type          8807 non-null   object\n",
      " 2   title         8807 non-null   object\n",
      " 3   director      6173 non-null   object\n",
      " 4   cast          7982 non-null   object\n",
      " 5   country       7976 non-null   object\n",
      " 6   date_added    8797 non-null   object\n",
      " 7   release_year  8807 non-null   int64 \n",
      " 8   rating        8803 non-null   object\n",
      " 9   duration      8804 non-null   object\n",
      " 10  listed_in     8807 non-null   object\n",
      " 11  description   8807 non-null   object\n",
      "dtypes: int64(1), object(11)\n",
      "memory usage: 825.8+ KB\n",
      "None\n"
     ]
    }
   ],
   "source": [
    "print(df.info())"
   ]
  },
  {
   "cell_type": "code",
   "execution_count": 42,
   "id": "2fcdaba5-af5d-49a4-aa68-64a07269291d",
   "metadata": {},
   "outputs": [
    {
     "name": "stdout",
     "output_type": "stream",
     "text": [
      "show_id            0\n",
      "type               0\n",
      "title              0\n",
      "director        2634\n",
      "cast             825\n",
      "country          831\n",
      "date_added        10\n",
      "release_year       0\n",
      "rating             4\n",
      "duration           3\n",
      "listed_in          0\n",
      "description        0\n",
      "dtype: int64\n"
     ]
    }
   ],
   "source": [
    "print(df.isnull().sum())"
   ]
  },
  {
   "cell_type": "code",
   "execution_count": 48,
   "id": "6f399864-2f1c-4ad9-b36b-a9c06b88343a",
   "metadata": {},
   "outputs": [
    {
     "name": "stderr",
     "output_type": "stream",
     "text": [
      "C:\\Users\\dell\\AppData\\Local\\Temp\\ipykernel_7716\\3745680589.py:1: FutureWarning: A value is trying to be set on a copy of a DataFrame or Series through chained assignment using an inplace method.\n",
      "The behavior will change in pandas 3.0. This inplace method will never work because the intermediate object on which we are setting values always behaves as a copy.\n",
      "\n",
      "For example, when doing 'df[col].method(value, inplace=True)', try using 'df.method({col: value}, inplace=True)' or df[col] = df[col].method(value) instead, to perform the operation inplace on the original object.\n",
      "\n",
      "\n",
      "  df['director'].fillna('Unknown', inplace=True)\n",
      "C:\\Users\\dell\\AppData\\Local\\Temp\\ipykernel_7716\\3745680589.py:2: FutureWarning: A value is trying to be set on a copy of a DataFrame or Series through chained assignment using an inplace method.\n",
      "The behavior will change in pandas 3.0. This inplace method will never work because the intermediate object on which we are setting values always behaves as a copy.\n",
      "\n",
      "For example, when doing 'df[col].method(value, inplace=True)', try using 'df.method({col: value}, inplace=True)' or df[col] = df[col].method(value) instead, to perform the operation inplace on the original object.\n",
      "\n",
      "\n",
      "  df['cast'].fillna('Unknown', inplace=True)\n",
      "C:\\Users\\dell\\AppData\\Local\\Temp\\ipykernel_7716\\3745680589.py:3: FutureWarning: A value is trying to be set on a copy of a DataFrame or Series through chained assignment using an inplace method.\n",
      "The behavior will change in pandas 3.0. This inplace method will never work because the intermediate object on which we are setting values always behaves as a copy.\n",
      "\n",
      "For example, when doing 'df[col].method(value, inplace=True)', try using 'df.method({col: value}, inplace=True)' or df[col] = df[col].method(value) instead, to perform the operation inplace on the original object.\n",
      "\n",
      "\n",
      "  df['country'].fillna('Unknown', inplace=True)\n"
     ]
    }
   ],
   "source": [
    "df['director'].fillna('Unknown', inplace=True)\n",
    "df['cast'].fillna('Unknown', inplace=True)\n",
    "df['country'].fillna('Unknown', inplace=True)"
   ]
  },
  {
   "cell_type": "code",
   "execution_count": 49,
   "id": "6ba7352c-11c4-44de-91b6-9bdf2c8db658",
   "metadata": {},
   "outputs": [],
   "source": [
    "df.dropna(subset=['date_added','rating','duration'], inplace=True)"
   ]
  },
  {
   "cell_type": "code",
   "execution_count": 50,
   "id": "e74f9e6e-cc05-4f46-aef7-075bf80568ef",
   "metadata": {},
   "outputs": [
    {
     "name": "stdout",
     "output_type": "stream",
     "text": [
      "show_id         0\n",
      "type            0\n",
      "title           0\n",
      "director        0\n",
      "cast            0\n",
      "country         0\n",
      "date_added      0\n",
      "release_year    0\n",
      "rating          0\n",
      "duration        0\n",
      "listed_in       0\n",
      "description     0\n",
      "dtype: int64\n"
     ]
    }
   ],
   "source": [
    "# print(df.isnull().sum())\n",
    "print(df.isnull().sum())"
   ]
  },
  {
   "cell_type": "code",
   "execution_count": 55,
   "id": "76ec1bef-ce91-49a7-b68f-21c8b22a7c75",
   "metadata": {},
   "outputs": [],
   "source": [
    "df['date_added'] = pd.to_datetime(df['date_added'].astype(str).str.strip())"
   ]
  },
  {
   "cell_type": "code",
   "execution_count": 57,
   "id": "9ba1c110-7cd8-49e1-b092-ea7cca85b977",
   "metadata": {},
   "outputs": [],
   "source": [
    "# Initialize new columns with NaN\n",
    "df['movie_duration_mins'] = np.nan\n",
    "df['tv_show_seasons'] = np.nan\n",
    "\n",
    "# For Movies, extract the number and fill the movie_duration_mins column\n",
    "is_movie = df['type'] == 'Movie'\n",
    "df.loc[is_movie, 'movie_duration_mins'] = df.loc[is_movie, 'duration'].str.replace(' min', '').astype(int)\n",
    "\n",
    "# For TV Shows, extract the number and fill the tv_show_seasons column\n",
    "is_tv_show = df['type'] == 'TV Show'\n",
    "# Use .replace for both ' Season' and ' Seasons'\n",
    "df.loc[is_tv_show, 'tv_show_seasons'] = df.loc[is_tv_show, 'duration'].str.replace(' Seasons', '').str.replace(' Season', '').astype(int)"
   ]
  },
  {
   "cell_type": "code",
   "execution_count": 58,
   "id": "9e4c3eaa-a95f-4b74-8912-42b0313c55a2",
   "metadata": {},
   "outputs": [],
   "source": [
    "df['year_added'] = df['date_added'].dt.year\n",
    "df['month_added'] = df['date_added'].dt.month"
   ]
  },
  {
   "cell_type": "code",
   "execution_count": 59,
   "id": "f8f10243-c7cc-4ea3-a269-610ab16bd478",
   "metadata": {},
   "outputs": [
    {
     "name": "stdout",
     "output_type": "stream",
     "text": [
      "<class 'pandas.core.frame.DataFrame'>\n",
      "Index: 8790 entries, 0 to 8806\n",
      "Data columns (total 16 columns):\n",
      " #   Column               Non-Null Count  Dtype         \n",
      "---  ------               --------------  -----         \n",
      " 0   show_id              8790 non-null   object        \n",
      " 1   type                 8790 non-null   object        \n",
      " 2   title                8790 non-null   object        \n",
      " 3   director             8790 non-null   object        \n",
      " 4   cast                 8790 non-null   object        \n",
      " 5   country              8790 non-null   object        \n",
      " 6   date_added           8790 non-null   datetime64[ns]\n",
      " 7   release_year         8790 non-null   int64         \n",
      " 8   rating               8790 non-null   object        \n",
      " 9   duration             8790 non-null   object        \n",
      " 10  listed_in            8790 non-null   object        \n",
      " 11  description          8790 non-null   object        \n",
      " 12  movie_duration_mins  6126 non-null   float64       \n",
      " 13  tv_show_seasons      2664 non-null   float64       \n",
      " 14  year_added           8790 non-null   int32         \n",
      " 15  month_added          8790 non-null   int32         \n",
      "dtypes: datetime64[ns](1), float64(2), int32(2), int64(1), object(10)\n",
      "memory usage: 1.1+ MB\n",
      "None\n"
     ]
    }
   ],
   "source": [
    "print(df.info())"
   ]
  },
  {
   "cell_type": "code",
   "execution_count": 60,
   "id": "ec2894a7-3ce8-4020-bb86-de7dd063e9a0",
   "metadata": {},
   "outputs": [
    {
     "name": "stdout",
     "output_type": "stream",
     "text": [
      "\n",
      "Cleaned data saved to 'netflix_cleaned.csv'\n"
     ]
    }
   ],
   "source": [
    "df.to_csv('netflix_cleaned.csv', index=False)\n",
    "print(\"\\nCleaned data saved to 'netflix_cleaned.csv'\")"
   ]
  }
 ],
 "metadata": {
  "kernelspec": {
   "display_name": "Python [conda env:base] *",
   "language": "python",
   "name": "conda-base-py"
  },
  "language_info": {
   "codemirror_mode": {
    "name": "ipython",
    "version": 3
   },
   "file_extension": ".py",
   "mimetype": "text/x-python",
   "name": "python",
   "nbconvert_exporter": "python",
   "pygments_lexer": "ipython3",
   "version": "3.13.5"
  }
 },
 "nbformat": 4,
 "nbformat_minor": 5
}
